{
  "nbformat": 4,
  "nbformat_minor": 5,
  "metadata": {
    "colab": {
      "provenance": []
    },
    "kernelspec": {
      "display_name": "Python 3",
      "language": "python",
      "name": "python3"
    },
    "language_info": {
      "codemirror_mode": {
        "name": "ipython",
        "version": 3
      },
      "file_extension": ".py",
      "mimetype": "text/x-python",
      "name": "python",
      "nbconvert_exporter": "python",
      "pygments_lexer": "ipython3",
      "version": "3.8.5"
    }
  },
  "cells": [
    {
      "cell_type": "markdown",
      "metadata": {
        "id": "68f847b7"
      },
      "source": [
        "\n",
        "Дан датасет для классификации.\n",
        "\n",
        "Определим один из 7 преобладающих видов деревьев на лесных участках размером 30*30 метров (7 классов).\n",
        "\n",
        "В качества признаков даны высота над уровнем моря, расстояния до подземных источников и мест лесных пожаров, один из 4 лесных зон, 40 типов почвы (последние 40 колонок) и др.\n",
        "\n",
        "Описание данных можно найти на https://scikit-learn.org/stable/datasets/real_world.html#forest-covertypes"
      ],
      "id": "68f847b7"
    },
    {
      "cell_type": "code",
      "metadata": {
        "id": "f183a06e"
      },
      "source": [
        "# загружаем нужные библиотеки для\n",
        "import numpy as np\n",
        "import pandas as pd\n",
        "\n",
        "from sklearn.datasets import fetch_covtype\n",
        "\n",
        "from sklearn import datasets\n",
        "from sklearn.model_selection import train_test_split\n",
        "from sklearn.model_selection import StratifiedShuffleSplit, StratifiedKFold\n",
        "from sklearn.neighbors import KNeighborsClassifier\n",
        "from sklearn.tree import DecisionTreeClassifier\n",
        "from sklearn.ensemble import ExtraTreesClassifier\n",
        "from sklearn.metrics import accuracy_score, f1_score, precision_score, recall_score, classification_report, confusion_matrix\n",
        "\n",
        "from collections import Counter"
      ],
      "id": "f183a06e",
      "execution_count": null,
      "outputs": []
    },
    {
      "cell_type": "code",
      "metadata": {
        "id": "89acd48d"
      },
      "source": [
        "# загрузим датасет из библиотеки датасетов\n",
        "data = fetch_covtype()\n",
        "\n",
        "# определяем целевой признак target\n",
        "features = data['data']\n",
        "target = data['target']"
      ],
      "id": "89acd48d",
      "execution_count": 2,
      "outputs": []
    },
    {
      "cell_type": "code",
      "metadata": {
        "id": "NxKZbFE9IUPD",
        "colab": {
          "base_uri": "https://localhost:8080/"
        },
        "outputId": "37a56154-c02c-4d72-f8d3-9ff498255d6c"
      },
      "source": [
        "print(features.shape)"
      ],
      "id": "NxKZbFE9IUPD",
      "execution_count": null,
      "outputs": [
        {
          "output_type": "stream",
          "name": "stdout",
          "text": [
            "(581012, 54)\n"
          ]
        }
      ]
    },
    {
      "cell_type": "markdown",
      "metadata": {
        "id": "9a152d3e"
      },
      "source": [
        "Разделим выборку на тренировочную и тестовую"
      ],
      "id": "9a152d3e"
    },
    {
      "cell_type": "code",
      "metadata": {
        "id": "WRLGspEtKonO",
        "colab": {
          "base_uri": "https://localhost:8080/"
        },
        "outputId": "6084ff71-0d8f-4d67-c603-8d4cf02c8ad7"
      },
      "source": [
        "Counter(target)\n",
        "# Как видите, количество представителей классов неравномерное,\n",
        "# так что попробуем использовать аргумент stratify при разбиении."
      ],
      "id": "WRLGspEtKonO",
      "execution_count": null,
      "outputs": [
        {
          "output_type": "execute_result",
          "data": {
            "text/plain": [
              "Counter({1: 211840, 2: 283301, 3: 35754, 4: 2747, 5: 9493, 6: 17367, 7: 20510})"
            ]
          },
          "metadata": {},
          "execution_count": 4
        }
      ]
    },
    {
      "cell_type": "code",
      "metadata": {
        "colab": {
          "base_uri": "https://localhost:8080/"
        },
        "id": "uP9bUAwJUmk_",
        "outputId": "bb411d7b-8b59-4e39-e15d-b10c24f58703"
      },
      "source": [
        "# определим количество сплитов\n",
        "splits = 7\n",
        "\n",
        "# определим количество фолдов\n",
        "kfold = StratifiedKFold(n_splits=splits, shuffle=True, random_state=42)\n",
        "shufflesplit = StratifiedShuffleSplit(n_splits=splits, random_state=42, test_size=7)\n",
        "\n",
        "print(\"KFold\")\n",
        "for train_index, test_index in kfold.split(features, target):\n",
        "    print(\"TRAIN:\", train_index, \"TEST:\", test_index)\n",
        "\n",
        "print(\"Shuffle Split\")\n",
        "for train_index, test_index in shufflesplit.split(features, target):\n",
        "    print(\"TRAIN:\", train_index, \"TEST:\", test_index)"
      ],
      "id": "uP9bUAwJUmk_",
      "execution_count": null,
      "outputs": [
        {
          "output_type": "stream",
          "name": "stdout",
          "text": [
            "KFold\n",
            "TRAIN: [     1      2      3 ... 581009 581010 581011] TEST: [     0     10     11 ... 580990 581003 581004]\n",
            "TRAIN: [     0      1      2 ... 581009 581010 581011] TEST: [     7     12     14 ... 580996 581007 581008]\n",
            "TRAIN: [     0      1      2 ... 581009 581010 581011] TEST: [     9     17     18 ... 580995 580997 580998]\n",
            "TRAIN: [     0      2      3 ... 581008 581009 581010] TEST: [     1      4     21 ... 580999 581000 581011]\n",
            "TRAIN: [     0      1      4 ... 581009 581010 581011] TEST: [     2      3      6 ... 581001 581002 581005]\n",
            "TRAIN: [     0      1      2 ... 581007 581008 581011] TEST: [     8     19     39 ... 581006 581009 581010]\n",
            "TRAIN: [     0      1      2 ... 581009 581010 581011] TEST: [     5     13     16 ... 580968 580991 580994]\n",
            "Shuffle Split\n",
            "TRAIN: [ 63830 350385 512948 ... 276464 287143  52912] TEST: [420449 199566 403915 124205 429795 578448 443779]\n",
            "TRAIN: [473940 320723  34212 ... 421621 261345 486654] TEST: [275338 503575 562962 183720 368319 315024  98725]\n",
            "TRAIN: [ 79534 486091 108032 ... 139259 101228 346546] TEST: [121604 205039  58464 265004 384882 361496 567349]\n",
            "TRAIN: [151503 507684 230243 ... 543036 120886 172027] TEST: [231980 550143 490361 551114 379618 387659  48564]\n",
            "TRAIN: [ 59366 577145 370946 ... 433728 425886 358985] TEST: [149593 525263 496112 528217 189709 573230 428626]\n",
            "TRAIN: [ 99098 187391 397522 ... 180863 480243 167351] TEST: [177397 181018 303823   7916 104547 437373  50969]\n",
            "TRAIN: [556573 146966 324556 ...  46635 338367  73734] TEST: [461899 302685 577407 350307  71995  59421 281151]\n"
          ]
        }
      ]
    },
    {
      "cell_type": "code",
      "metadata": {
        "id": "aty0tlf6DlWA"
      },
      "source": [
        "# разобьем наш датасет на тренировочную и тестовую выборки с учетом стратификации\n",
        "X_train, X_test, y_train, y_test = train_test_split(features, target,\n",
        "                                                    train_size=0.67,\n",
        "                                                    random_state=1,\n",
        "                                                    stratify=target)"
      ],
      "id": "aty0tlf6DlWA",
      "execution_count": null,
      "outputs": []
    },
    {
      "cell_type": "code",
      "metadata": {
        "colab": {
          "base_uri": "https://localhost:8080/"
        },
        "id": "jiLH0nakDs49",
        "outputId": "766cabc1-c9e4-4a8a-f385-3c6ba9720786"
      },
      "source": [
        "# выведем нашу тестовую выборку по X\n",
        "X_test"
      ],
      "id": "jiLH0nakDs49",
      "execution_count": null,
      "outputs": [
        {
          "output_type": "execute_result",
          "data": {
            "text/plain": [
              "array([[2.963e+03, 1.300e+01, 8.000e+00, ..., 0.000e+00, 0.000e+00,\n",
              "        0.000e+00],\n",
              "       [2.319e+03, 2.650e+02, 1.300e+01, ..., 0.000e+00, 0.000e+00,\n",
              "        0.000e+00],\n",
              "       [3.383e+03, 2.460e+02, 1.700e+01, ..., 0.000e+00, 1.000e+00,\n",
              "        0.000e+00],\n",
              "       ...,\n",
              "       [2.998e+03, 2.900e+01, 1.100e+01, ..., 0.000e+00, 0.000e+00,\n",
              "        0.000e+00],\n",
              "       [2.857e+03, 1.000e+02, 5.000e+00, ..., 0.000e+00, 0.000e+00,\n",
              "        0.000e+00],\n",
              "       [2.732e+03, 2.730e+02, 2.200e+01, ..., 0.000e+00, 0.000e+00,\n",
              "        0.000e+00]])"
            ]
          },
          "metadata": {},
          "execution_count": 36
        }
      ]
    },
    {
      "cell_type": "markdown",
      "metadata": {
        "id": "e8afa98c"
      },
      "source": [
        "## Построение моделей\n",
        "\n",
        "Построим две модели: KNN и решающее дерево. Посчитаем ответы на тестовой выборке."
      ],
      "id": "e8afa98c"
    },
    {
      "cell_type": "code",
      "metadata": {
        "id": "U2oh62QMMKOj",
        "colab": {
          "base_uri": "https://localhost:8080/"
        },
        "outputId": "95e7f33a-bcc4-42f0-b616-1625a44987ca"
      },
      "source": [
        "# используем метод KNN\n",
        "knn = KNeighborsClassifier(n_neighbors=5)\n",
        "knn.fit(X_train,y_train)"
      ],
      "id": "U2oh62QMMKOj",
      "execution_count": null,
      "outputs": [
        {
          "output_type": "execute_result",
          "data": {
            "text/plain": [
              "KNeighborsClassifier(algorithm='auto', leaf_size=30, metric='minkowski',\n",
              "                     metric_params=None, n_jobs=None, n_neighbors=5, p=2,\n",
              "                     weights='uniform')"
            ]
          },
          "metadata": {},
          "execution_count": 37
        }
      ]
    },
    {
      "cell_type": "code",
      "metadata": {
        "colab": {
          "base_uri": "https://localhost:8080/"
        },
        "id": "bqaJq3qIQvPa",
        "outputId": "224ff4f0-b62e-4094-f00e-998bb13a8e6a"
      },
      "source": [
        "# используем predict для KNN\n",
        "y_pred1 = knn.predict(X_test)\n",
        "y_pred1"
      ],
      "id": "bqaJq3qIQvPa",
      "execution_count": null,
      "outputs": [
        {
          "output_type": "execute_result",
          "data": {
            "text/plain": [
              "array([2, 3, 1, ..., 2, 2, 2], dtype=int32)"
            ]
          },
          "metadata": {},
          "execution_count": 70
        }
      ]
    },
    {
      "cell_type": "code",
      "metadata": {
        "colab": {
          "base_uri": "https://localhost:8080/"
        },
        "id": "-vzYknJav_V_",
        "outputId": "35746285-7444-46fa-b5b0-f1b42da03a99"
      },
      "source": [
        "print(knn.predict_proba(X_test))"
      ],
      "id": "-vzYknJav_V_",
      "execution_count": null,
      "outputs": [
        {
          "output_type": "stream",
          "name": "stdout",
          "text": [
            "[[0. 1. 0. ... 0. 0. 0.]\n",
            " [0. 0. 1. ... 0. 0. 0.]\n",
            " [1. 0. 0. ... 0. 0. 0.]\n",
            " ...\n",
            " [0. 1. 0. ... 0. 0. 0.]\n",
            " [0. 1. 0. ... 0. 0. 0.]\n",
            " [0. 1. 0. ... 0. 0. 0.]]\n"
          ]
        }
      ]
    },
    {
      "cell_type": "code",
      "metadata": {
        "colab": {
          "base_uri": "https://localhost:8080/"
        },
        "id": "ftdngekVRB65",
        "outputId": "e844dacd-64d1-44c7-97bb-4cd7c54f0164"
      },
      "source": [
        "# выведем метрики для модели KNN\n",
        "knn.score(X_test, y_test)"
      ],
      "id": "ftdngekVRB65",
      "execution_count": null,
      "outputs": [
        {
          "output_type": "execute_result",
          "data": {
            "text/plain": [
              "0.96427342046794"
            ]
          },
          "metadata": {},
          "execution_count": 67
        }
      ]
    },
    {
      "cell_type": "code",
      "metadata": {
        "colab": {
          "base_uri": "https://localhost:8080/"
        },
        "id": "a4vd7pUsRNyK",
        "outputId": "d731868d-ef30-4eb6-9d0f-2a96e35e2af4"
      },
      "source": [
        "# используем модель решающих деревьев\n",
        "tree = DecisionTreeClassifier(criterion = \"entropy\", splitter = \"random\", max_depth = 2,  min_samples_split = 5,\n",
        "                              min_samples_leaf = 2, max_features = 2)\n",
        "tree.fit(X_train,y_train)"
      ],
      "id": "a4vd7pUsRNyK",
      "execution_count": null,
      "outputs": [
        {
          "output_type": "execute_result",
          "data": {
            "text/plain": [
              "DecisionTreeClassifier(ccp_alpha=0.0, class_weight=None, criterion='entropy',\n",
              "                       max_depth=2, max_features=2, max_leaf_nodes=None,\n",
              "                       min_impurity_decrease=0.0, min_impurity_split=None,\n",
              "                       min_samples_leaf=2, min_samples_split=5,\n",
              "                       min_weight_fraction_leaf=0.0, presort='deprecated',\n",
              "                       random_state=None, splitter='random')"
            ]
          },
          "metadata": {},
          "execution_count": 41
        }
      ]
    },
    {
      "cell_type": "code",
      "metadata": {
        "colab": {
          "base_uri": "https://localhost:8080/"
        },
        "id": "pojtc6oBTsRP",
        "outputId": "d24909fa-3a46-4076-e17e-4f67c08e1948"
      },
      "source": [
        "# используем predict для DecisionTreeClassifier\n",
        "y_pred2 = tree.predict(X_test)\n",
        "y_pred2"
      ],
      "id": "pojtc6oBTsRP",
      "execution_count": null,
      "outputs": [
        {
          "output_type": "execute_result",
          "data": {
            "text/plain": [
              "array([2, 2, 2, ..., 2, 2, 2], dtype=int32)"
            ]
          },
          "metadata": {},
          "execution_count": 56
        }
      ]
    },
    {
      "cell_type": "code",
      "metadata": {
        "colab": {
          "base_uri": "https://localhost:8080/"
        },
        "id": "ZHrCgq3tT2Ce",
        "outputId": "ca4ddaaa-d1e6-4b1e-b31c-159ff8ceffa0"
      },
      "source": [
        "# посмотрим узлы для DecisionTreeClassifier\n",
        "tree.tree_.__getstate__()['nodes']"
      ],
      "id": "ZHrCgq3tT2Ce",
      "execution_count": null,
      "outputs": [
        {
          "output_type": "execute_result",
          "data": {
            "text/plain": [
              "array([( 1,  4, 35,  0.13255438, 1.73866976, 389278, 389278.),\n",
              "       ( 2,  3,  8, 81.76915402, 1.75853678, 367015, 367015.),\n",
              "       (-1, -1, -2, -2.        , 2.28234356,  22418,  22418.),\n",
              "       (-1, -1, -2, -2.        , 1.71063769, 344597, 344597.),\n",
              "       ( 5,  6, 12,  0.18593276, 0.80757577,  22263,  22263.),\n",
              "       (-1, -1, -2, -2.        , 0.80857897,  16657,  16657.),\n",
              "       (-1, -1, -2, -2.        , 0.7341791 ,   5606,   5606.)],\n",
              "      dtype=[('left_child', '<i8'), ('right_child', '<i8'), ('feature', '<i8'), ('threshold', '<f8'), ('impurity', '<f8'), ('n_node_samples', '<i8'), ('weighted_n_node_samples', '<f8')])"
            ]
          },
          "metadata": {},
          "execution_count": 44
        }
      ]
    },
    {
      "cell_type": "markdown",
      "metadata": {
        "id": "c6384b69"
      },
      "source": [
        "## Подсчет метрик\n",
        "\n",
        "Посмотрим метрику F1 для полученных предсказаний с помощью функции f1_score из библиотеки sklearn"
      ],
      "id": "c6384b69"
    },
    {
      "cell_type": "code",
      "metadata": {
        "colab": {
          "base_uri": "https://localhost:8080/"
        },
        "id": "fCwnLHrSmfBg",
        "outputId": "870688b6-e22e-4880-d8c2-bfe484261ba8"
      },
      "source": [
        "# выведем взвешенную f1 метрику по KNN\n",
        "print(f1_score(y_test, y_pred1, average=\"weighted\"))"
      ],
      "id": "fCwnLHrSmfBg",
      "execution_count": null,
      "outputs": [
        {
          "output_type": "stream",
          "name": "stdout",
          "text": [
            "0.9641922652706003\n"
          ]
        }
      ]
    },
    {
      "cell_type": "code",
      "metadata": {
        "colab": {
          "base_uri": "https://localhost:8080/"
        },
        "id": "8ufiYoKcoy56",
        "outputId": "d59e9896-8da5-4cf7-ff5b-53d7bcaf20c5"
      },
      "source": [
        "# выведем макро precision_score по KNN\n",
        "print(precision_score(y_test, y_pred1, average=\"macro\"))"
      ],
      "id": "8ufiYoKcoy56",
      "execution_count": null,
      "outputs": [
        {
          "output_type": "stream",
          "name": "stdout",
          "text": [
            "0.9464118279415855\n"
          ]
        }
      ]
    },
    {
      "cell_type": "code",
      "metadata": {
        "colab": {
          "base_uri": "https://localhost:8080/"
        },
        "id": "75iw4WbsozCl",
        "outputId": "77bc7422-882f-4341-ed7b-228e33790738"
      },
      "source": [
        "# выведем макро recall_score по KNN\n",
        "print(recall_score(y_test, y_pred1, average=\"macro\"))"
      ],
      "id": "75iw4WbsozCl",
      "execution_count": null,
      "outputs": [
        {
          "output_type": "stream",
          "name": "stdout",
          "text": [
            "0.9192432910972546\n"
          ]
        }
      ]
    },
    {
      "cell_type": "code",
      "metadata": {
        "colab": {
          "base_uri": "https://localhost:8080/"
        },
        "id": "JFGLHeGHoX8A",
        "outputId": "a45c57a9-d983-4968-b661-ec647d465bfd"
      },
      "source": [
        "# выведем взвешенную f1 метрику по DecisionTreeClassifier\n",
        "print(f1_score(y_test, y_pred2, average=\"macro\"))"
      ],
      "id": "JFGLHeGHoX8A",
      "execution_count": null,
      "outputs": [
        {
          "output_type": "stream",
          "name": "stdout",
          "text": [
            "0.12513596437691407\n"
          ]
        }
      ]
    },
    {
      "cell_type": "code",
      "metadata": {
        "colab": {
          "base_uri": "https://localhost:8080/"
        },
        "id": "6o2xiChMmluA",
        "outputId": "6e1dd047-693c-46ed-af84-60ef733d59d8"
      },
      "source": [
        "# выведем макро precision_score по DecisionTreeClassifier\n",
        "print(precision_score(y_test, y_pred2, average=\"macro\"))"
      ],
      "id": "6o2xiChMmluA",
      "execution_count": null,
      "outputs": [
        {
          "output_type": "stream",
          "name": "stdout",
          "text": [
            "0.1823791401671582\n"
          ]
        },
        {
          "output_type": "stream",
          "name": "stderr",
          "text": [
            "/usr/local/lib/python3.7/dist-packages/sklearn/metrics/_classification.py:1272: UndefinedMetricWarning: Precision is ill-defined and being set to 0.0 in labels with no predicted samples. Use `zero_division` parameter to control this behavior.\n",
            "  _warn_prf(average, modifier, msg_start, len(result))\n"
          ]
        }
      ]
    },
    {
      "cell_type": "code",
      "metadata": {
        "colab": {
          "base_uri": "https://localhost:8080/"
        },
        "id": "n90eFx3Tml3P",
        "outputId": "f17d19f7-b59a-4929-82be-d32484dcdf69"
      },
      "source": [
        "# выведем макро recall_score по DecisionTreeClassifier\n",
        "print(recall_score(y_test, y_pred2, average=\"macro\"))"
      ],
      "id": "n90eFx3Tml3P",
      "execution_count": null,
      "outputs": [
        {
          "output_type": "stream",
          "name": "stdout",
          "text": [
            "0.15660719251776345\n"
          ]
        }
      ]
    },
    {
      "cell_type": "markdown",
      "metadata": {
        "id": "24e9ca9e"
      },
      "source": [
        "54 - это довольно большая размерность для пространства признаков.\n",
        "\n",
        "Попробуем уменьшить его любым доступным способом (в том числе, отбросить что-либо, посмотрев на атрибут DecisionTreeClassifier **feature_importances_**)"
      ],
      "id": "24e9ca9e"
    },
    {
      "cell_type": "code",
      "metadata": {
        "colab": {
          "base_uri": "https://localhost:8080/"
        },
        "id": "qwl9RiMD0-1i",
        "outputId": "659de6d3-fdd7-4a8b-e98e-d991f2f8c422"
      },
      "source": [
        "# выведем feature_importances\n",
        "print (tree.feature_importances_)"
      ],
      "id": "qwl9RiMD0-1i",
      "execution_count": null,
      "outputs": [
        {
          "output_type": "stream",
          "name": "stdout",
          "text": [
            "[0.         0.         0.         0.         0.         0.\n",
            " 0.         0.         0.2561485  0.         0.         0.\n",
            " 0.02122846 0.         0.         0.         0.         0.\n",
            " 0.         0.         0.         0.         0.         0.\n",
            " 0.         0.         0.         0.         0.         0.\n",
            " 0.         0.         0.         0.         0.         0.72262303\n",
            " 0.         0.         0.         0.         0.         0.\n",
            " 0.         0.         0.         0.         0.         0.\n",
            " 0.         0.         0.         0.         0.         0.        ]\n"
          ]
        }
      ]
    },
    {
      "cell_type": "code",
      "metadata": {
        "colab": {
          "base_uri": "https://localhost:8080/"
        },
        "id": "wz3VY8vQ50MH",
        "outputId": "e69b04ad-4671-457d-d3b8-73026f352dcf"
      },
      "source": [
        "# определим модель классификации признаков\n",
        "model = ExtraTreesClassifier()\n",
        "model.fit(features, target)"
      ],
      "id": "wz3VY8vQ50MH",
      "execution_count": null,
      "outputs": [
        {
          "output_type": "execute_result",
          "data": {
            "text/plain": [
              "ExtraTreesClassifier(bootstrap=False, ccp_alpha=0.0, class_weight=None,\n",
              "                     criterion='gini', max_depth=None, max_features='auto',\n",
              "                     max_leaf_nodes=None, max_samples=None,\n",
              "                     min_impurity_decrease=0.0, min_impurity_split=None,\n",
              "                     min_samples_leaf=1, min_samples_split=2,\n",
              "                     min_weight_fraction_leaf=0.0, n_estimators=100,\n",
              "                     n_jobs=None, oob_score=False, random_state=None, verbose=0,\n",
              "                     warm_start=False)"
            ]
          },
          "metadata": {},
          "execution_count": 85
        }
      ]
    },
    {
      "cell_type": "code",
      "metadata": {
        "colab": {
          "base_uri": "https://localhost:8080/"
        },
        "id": "N_i1u7YR5-re",
        "outputId": "57bc7d3c-b852-47ea-bca1-66a2e79dd3ef"
      },
      "source": [
        "# выведем данные по влиянию признаков\n",
        "print(model.feature_importances_)"
      ],
      "id": "N_i1u7YR5-re",
      "execution_count": null,
      "outputs": [
        {
          "output_type": "stream",
          "name": "stdout",
          "text": [
            "[1.99233955e-01 5.18852529e-02 3.71011820e-02 6.40936205e-02\n",
            " 5.90170969e-02 1.12054665e-01 4.33861625e-02 4.53654630e-02\n",
            " 4.25967753e-02 1.05557370e-01 1.08026412e-02 5.96740715e-03\n",
            " 1.25633474e-02 3.62641495e-02 1.10852792e-03 1.02861703e-02\n",
            " 2.65300682e-03 1.31725043e-02 7.71244405e-04 3.11765934e-03\n",
            " 5.38841929e-05 5.25707238e-05 2.37064109e-04 1.25220447e-02\n",
            " 3.67204566e-03 1.56773820e-02 5.15114240e-03 5.89204374e-04\n",
            " 4.99885495e-06 9.58884028e-04 1.96634157e-03 6.21991278e-04\n",
            " 1.19618931e-03 2.25210337e-03 1.16008522e-03 1.88366877e-02\n",
            " 1.23900246e-02 4.41183738e-03 2.65592661e-04 8.67699961e-04\n",
            " 8.45957331e-04 3.45983188e-04 4.96042364e-03 3.54925903e-03\n",
            " 3.32125557e-03 4.11684424e-03 3.88271252e-03 8.92683389e-04\n",
            " 2.15287938e-03 1.20821246e-04 7.82158104e-04 1.35941377e-02\n",
            " 1.36971980e-02 7.85171131e-03]\n"
          ]
        }
      ]
    },
    {
      "cell_type": "markdown",
      "metadata": {
        "id": "OCd9iRspOpln"
      },
      "source": [
        "## Выводы\n",
        "\n",
        "На основании метрик, полученных в проведенном анализе, качество результатов работы моделей для данной задачи классификации показали, что KNN предпочтительнее чем DecisionTree, т.к. метрики по модели выше\n"
      ],
      "id": "OCd9iRspOpln"
    }
  ]
}